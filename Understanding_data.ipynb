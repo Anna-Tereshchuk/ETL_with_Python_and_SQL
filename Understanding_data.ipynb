{
  "nbformat": 4,
  "nbformat_minor": 0,
  "metadata": {
    "colab": {
      "provenance": [],
      "authorship_tag": "ABX9TyO5+sSzvtozw9OpNTVC+I3t",
      "include_colab_link": true
    },
    "kernelspec": {
      "name": "python3",
      "display_name": "Python 3"
    },
    "language_info": {
      "name": "python"
    }
  },
  "cells": [
    {
      "cell_type": "markdown",
      "metadata": {
        "id": "view-in-github",
        "colab_type": "text"
      },
      "source": [
        "<a href=\"https://colab.research.google.com/github/Anna-Tereshchuk/ETL_with_Python_and_SQL/blob/main/Understanding_data.ipynb\" target=\"_parent\"><img src=\"https://colab.research.google.com/assets/colab-badge.svg\" alt=\"Open In Colab\"/></a>"
      ]
    },
    {
      "cell_type": "code",
      "execution_count": 2,
      "metadata": {
        "id": "g_XXz7xJ1vWz"
      },
      "outputs": [],
      "source": [
        "import pandas as pd\n"
      ]
    },
    {
      "cell_type": "code",
      "source": [
        "data = {'Product': ['A', 'B', 'C', 'D', 'E'],\n",
        "        'Customer': ['John', 'Anna', 'Peter', 'Linda', 'Tom'],\n",
        "        'Time': ['2023-01-01 10:00', '2023-01-01 11:00', '2023-01-01 12:00', '2023-01-01 13:00', '2023-01-01 14:00']}\n",
        "df = pd.DataFrame(data)\n"
      ],
      "metadata": {
        "id": "MC2nOj9R13AB"
      },
      "execution_count": 3,
      "outputs": []
    },
    {
      "cell_type": "markdown",
      "source": [
        "**Перегляд даних**"
      ],
      "metadata": {
        "id": "MiHfQYtt2CzT"
      }
    },
    {
      "cell_type": "code",
      "source": [
        "print(df.head())\n"
      ],
      "metadata": {
        "colab": {
          "base_uri": "https://localhost:8080/"
        },
        "id": "9a3aJYKx2EvQ",
        "outputId": "77aac79c-7bf6-4297-c33c-fdc1535305dc"
      },
      "execution_count": 4,
      "outputs": [
        {
          "output_type": "stream",
          "name": "stdout",
          "text": [
            "  Product Customer              Time\n",
            "0       A     John  2023-01-01 10:00\n",
            "1       B     Anna  2023-01-01 11:00\n",
            "2       C    Peter  2023-01-01 12:00\n",
            "3       D    Linda  2023-01-01 13:00\n",
            "4       E      Tom  2023-01-01 14:00\n"
          ]
        }
      ]
    },
    {
      "cell_type": "markdown",
      "source": [
        "**Перегляд останніх рядків**"
      ],
      "metadata": {
        "id": "d0Hq2n3G2Mpv"
      }
    },
    {
      "cell_type": "code",
      "source": [
        "print(df.tail(1))\n"
      ],
      "metadata": {
        "colab": {
          "base_uri": "https://localhost:8080/"
        },
        "id": "mFMjSEWn2NI9",
        "outputId": "f55bdf4f-1257-484b-d448-14f51eebfe74"
      },
      "execution_count": 6,
      "outputs": [
        {
          "output_type": "stream",
          "name": "stdout",
          "text": [
            "  Product Customer              Time\n",
            "4       E      Tom  2023-01-01 14:00\n"
          ]
        }
      ]
    },
    {
      "cell_type": "markdown",
      "source": [
        "**Кількість рядків та стовпців**"
      ],
      "metadata": {
        "id": "KJmNLsx82chx"
      }
    },
    {
      "cell_type": "code",
      "source": [
        "print(df.shape)\n"
      ],
      "metadata": {
        "colab": {
          "base_uri": "https://localhost:8080/"
        },
        "id": "aFW27aw_2e9M",
        "outputId": "ba6025da-c24b-4526-e8dd-08af3e82a5de"
      },
      "execution_count": 7,
      "outputs": [
        {
          "output_type": "stream",
          "name": "stdout",
          "text": [
            "(5, 3)\n"
          ]
        }
      ]
    },
    {
      "cell_type": "markdown",
      "source": [
        "**Інформація про структуру та вміст DataFrame**"
      ],
      "metadata": {
        "id": "ODvBBwmK2lbM"
      }
    },
    {
      "cell_type": "code",
      "source": [
        "print(df.info())\n"
      ],
      "metadata": {
        "colab": {
          "base_uri": "https://localhost:8080/"
        },
        "id": "5jRY0cQl2nck",
        "outputId": "102d66dd-8735-4197-dfbc-6a9131169040"
      },
      "execution_count": 8,
      "outputs": [
        {
          "output_type": "stream",
          "name": "stdout",
          "text": [
            "<class 'pandas.core.frame.DataFrame'>\n",
            "RangeIndex: 5 entries, 0 to 4\n",
            "Data columns (total 3 columns):\n",
            " #   Column    Non-Null Count  Dtype \n",
            "---  ------    --------------  ----- \n",
            " 0   Product   5 non-null      object\n",
            " 1   Customer  5 non-null      object\n",
            " 2   Time      5 non-null      object\n",
            "dtypes: object(3)\n",
            "memory usage: 252.0+ bytes\n",
            "None\n"
          ]
        }
      ]
    },
    {
      "cell_type": "markdown",
      "source": [
        "**Виявлення дублікатів**"
      ],
      "metadata": {
        "id": "qQNqEkYi2ub1"
      }
    },
    {
      "cell_type": "code",
      "source": [
        "print(df.duplicated())\n"
      ],
      "metadata": {
        "colab": {
          "base_uri": "https://localhost:8080/"
        },
        "id": "qMy8hPCB2wii",
        "outputId": "98a403b0-124b-44a2-f128-30cd45b187f5"
      },
      "execution_count": 9,
      "outputs": [
        {
          "output_type": "stream",
          "name": "stdout",
          "text": [
            "0    False\n",
            "1    False\n",
            "2    False\n",
            "3    False\n",
            "4    False\n",
            "dtype: bool\n"
          ]
        }
      ]
    },
    {
      "cell_type": "markdown",
      "source": [
        "Розуміння структури даних, якості даних та необхідних трансформацій є важливим етапом у процесі ETL. Використання pandas дозволяє ефективно досліджувати та аналізувати дані."
      ],
      "metadata": {
        "id": "3hSXS60w24HO"
      }
    }
  ]
}