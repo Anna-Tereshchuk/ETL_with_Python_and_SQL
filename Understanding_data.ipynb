{
  "nbformat": 4,
  "nbformat_minor": 0,
  "metadata": {
    "colab": {
      "provenance": [],
      "authorship_tag": "ABX9TyOA6KnfA1/p5hqp1kfsmzuE",
      "include_colab_link": true
    },
    "kernelspec": {
      "name": "python3",
      "display_name": "Python 3"
    },
    "language_info": {
      "name": "python"
    }
  },
  "cells": [
    {
      "cell_type": "markdown",
      "metadata": {
        "id": "view-in-github",
        "colab_type": "text"
      },
      "source": [
        "<a href=\"https://colab.research.google.com/github/Anna-Tereshchuk/ETL_with_Python_and_SQL/blob/main/Understanding_data.ipynb\" target=\"_parent\"><img src=\"https://colab.research.google.com/assets/colab-badge.svg\" alt=\"Open In Colab\"/></a>"
      ]
    },
    {
      "cell_type": "code",
      "execution_count": 2,
      "metadata": {
        "id": "g_XXz7xJ1vWz"
      },
      "outputs": [],
      "source": [
        "import pandas as pd\n"
      ]
    },
    {
      "cell_type": "code",
      "source": [
        "data = {'Product': ['A', 'B', 'C', 'D', 'E'],\n",
        "        'Customer': ['John', 'Anna', 'Peter', 'Linda', 'Tom'],\n",
        "        'Time': ['2023-01-01 10:00', '2023-01-01 11:00', '2023-01-01 12:00', '2023-01-01 13:00', '2023-01-01 14:00']}\n",
        "df = pd.DataFrame(data)\n"
      ],
      "metadata": {
        "id": "MC2nOj9R13AB"
      },
      "execution_count": 3,
      "outputs": []
    },
    {
      "cell_type": "markdown",
      "source": [
        "**Перегляд даних**"
      ],
      "metadata": {
        "id": "MiHfQYtt2CzT"
      }
    },
    {
      "cell_type": "code",
      "source": [
        "print(df.head())\n"
      ],
      "metadata": {
        "colab": {
          "base_uri": "https://localhost:8080/"
        },
        "id": "9a3aJYKx2EvQ",
        "outputId": "77aac79c-7bf6-4297-c33c-fdc1535305dc"
      },
      "execution_count": 4,
      "outputs": [
        {
          "output_type": "stream",
          "name": "stdout",
          "text": [
            "  Product Customer              Time\n",
            "0       A     John  2023-01-01 10:00\n",
            "1       B     Anna  2023-01-01 11:00\n",
            "2       C    Peter  2023-01-01 12:00\n",
            "3       D    Linda  2023-01-01 13:00\n",
            "4       E      Tom  2023-01-01 14:00\n"
          ]
        }
      ]
    },
    {
      "cell_type": "markdown",
      "source": [
        "**Перегляд останніх рядків**"
      ],
      "metadata": {
        "id": "d0Hq2n3G2Mpv"
      }
    },
    {
      "cell_type": "code",
      "source": [
        "print(df.tail(1))\n"
      ],
      "metadata": {
        "colab": {
          "base_uri": "https://localhost:8080/"
        },
        "id": "mFMjSEWn2NI9",
        "outputId": "f55bdf4f-1257-484b-d448-14f51eebfe74"
      },
      "execution_count": 6,
      "outputs": [
        {
          "output_type": "stream",
          "name": "stdout",
          "text": [
            "  Product Customer              Time\n",
            "4       E      Tom  2023-01-01 14:00\n"
          ]
        }
      ]
    },
    {
      "cell_type": "markdown",
      "source": [
        "**Кількість рядків та стовпців**"
      ],
      "metadata": {
        "id": "KJmNLsx82chx"
      }
    },
    {
      "cell_type": "code",
      "source": [
        "print(df.shape)\n"
      ],
      "metadata": {
        "colab": {
          "base_uri": "https://localhost:8080/"
        },
        "id": "aFW27aw_2e9M",
        "outputId": "ba6025da-c24b-4526-e8dd-08af3e82a5de"
      },
      "execution_count": 7,
      "outputs": [
        {
          "output_type": "stream",
          "name": "stdout",
          "text": [
            "(5, 3)\n"
          ]
        }
      ]
    },
    {
      "cell_type": "markdown",
      "source": [
        "**Інформація про структуру та вміст DataFrame**"
      ],
      "metadata": {
        "id": "ODvBBwmK2lbM"
      }
    },
    {
      "cell_type": "code",
      "source": [
        "print(df.info())\n"
      ],
      "metadata": {
        "colab": {
          "base_uri": "https://localhost:8080/"
        },
        "id": "5jRY0cQl2nck",
        "outputId": "102d66dd-8735-4197-dfbc-6a9131169040"
      },
      "execution_count": 8,
      "outputs": [
        {
          "output_type": "stream",
          "name": "stdout",
          "text": [
            "<class 'pandas.core.frame.DataFrame'>\n",
            "RangeIndex: 5 entries, 0 to 4\n",
            "Data columns (total 3 columns):\n",
            " #   Column    Non-Null Count  Dtype \n",
            "---  ------    --------------  ----- \n",
            " 0   Product   5 non-null      object\n",
            " 1   Customer  5 non-null      object\n",
            " 2   Time      5 non-null      object\n",
            "dtypes: object(3)\n",
            "memory usage: 252.0+ bytes\n",
            "None\n"
          ]
        }
      ]
    },
    {
      "cell_type": "markdown",
      "source": [
        "**Виявлення дублікатів**"
      ],
      "metadata": {
        "id": "qQNqEkYi2ub1"
      }
    },
    {
      "cell_type": "code",
      "source": [
        "print(df.duplicated())\n"
      ],
      "metadata": {
        "colab": {
          "base_uri": "https://localhost:8080/"
        },
        "id": "qMy8hPCB2wii",
        "outputId": "98a403b0-124b-44a2-f128-30cd45b187f5"
      },
      "execution_count": 9,
      "outputs": [
        {
          "output_type": "stream",
          "name": "stdout",
          "text": [
            "0    False\n",
            "1    False\n",
            "2    False\n",
            "3    False\n",
            "4    False\n",
            "dtype: bool\n"
          ]
        }
      ]
    },
    {
      "cell_type": "markdown",
      "source": [
        "Розуміння структури даних, якості даних та необхідних трансформацій є важливим етапом у процесі ETL. Використання pandas дозволяє ефективно досліджувати та аналізувати дані."
      ],
      "metadata": {
        "id": "3hSXS60w24HO"
      }
    },
    {
      "cell_type": "markdown",
      "source": [
        "\n",
        "\n",
        "> Завантаження CSV файлу\n",
        "\n"
      ],
      "metadata": {
        "id": "iOyjnEfQSM9J"
      }
    },
    {
      "cell_type": "code",
      "source": [
        "sample_data = pd.read_csv('/content/sample_data.csv')\n"
      ],
      "metadata": {
        "id": "jTOZYXkISU6r"
      },
      "execution_count": 10,
      "outputs": []
    },
    {
      "cell_type": "markdown",
      "source": [
        "\n",
        "\n",
        "> Перегляд даних перші 5 рядків\n",
        "\n"
      ],
      "metadata": {
        "id": "UnZ6E3GRSiDK"
      }
    },
    {
      "cell_type": "code",
      "source": [
        "print(sample_data.head())\n"
      ],
      "metadata": {
        "colab": {
          "base_uri": "https://localhost:8080/"
        },
        "id": "Kq0U1MFuSiem",
        "outputId": "57afaa25-66a1-4fb7-9a49-7712766e730e"
      },
      "execution_count": 11,
      "outputs": [
        {
          "output_type": "stream",
          "name": "stdout",
          "text": [
            "             Name                        Email                 Phone  \\\n",
            "0       Lisa West         andrew23@example.com         (465)852-8470   \n",
            "1      Jason Cole        kenneth05@example.net            7783540568   \n",
            "2     Juan Crosby          zbarnes@example.org   (676)328-6244x05295   \n",
            "3      April Ball  michaelmckinney@example.com  +1-633-685-4901x2113   \n",
            "4  Donald Jackson        peterdean@example.com          779-437-7643   \n",
            "\n",
            "                                             Address           City  \\\n",
            "0                   Unit 5183 Box 8914\\nDPO AP 26775      Perezfort   \n",
            "1  73784 Kenneth Stream Apt. 200\\nFitzgeraldshire...    Port Andrea   \n",
            "2          0580 Mary Row\\nLake Vanessabury, GA 81529    Johnborough   \n",
            "3  6215 Hensley Pass Apt. 136\\nSouth Patricia, MN...       New Eric   \n",
            "4     156 Macdonald Alley\\nWest Scottmouth, MA 82872  Alyssaborough   \n",
            "\n",
            "        Country Date of Birth   Salary  \n",
            "0      Honduras    2001-08-05  83302.0  \n",
            "1       Bolivia    2012-12-04  31035.0  \n",
            "2  South Africa    1921-02-02  60226.0  \n",
            "3        Greece    2023-05-08  52502.0  \n",
            "4       Namibia    2019-03-07  38687.0  \n"
          ]
        }
      ]
    },
    {
      "cell_type": "markdown",
      "source": [
        "Останні п’ять рядків:"
      ],
      "metadata": {
        "id": "OfYao4GkTpTt"
      }
    },
    {
      "cell_type": "code",
      "source": [
        "print(sample_data.tail())\n"
      ],
      "metadata": {
        "colab": {
          "base_uri": "https://localhost:8080/"
        },
        "id": "BVKAHT8fTq9B",
        "outputId": "f333f0bf-3cbf-4d9e-9e68-acca5994bca8"
      },
      "execution_count": 15,
      "outputs": [
        {
          "output_type": "stream",
          "name": "stdout",
          "text": [
            "                  Name                      Email                 Phone  \\\n",
            "195     Willie Shelton     jamesdavis@example.net      277-426-9077x821   \n",
            "196  Deborah Nicholson     michelle15@example.net     954-765-9968x1900   \n",
            "197         Vanessa Wu  reginaldowens@example.com  +1-682-798-1566x9050   \n",
            "198        Robyn Allen         chad33@example.org      212-239-3934x599   \n",
            "199      Scott Stewart      valerie39@example.com          956.897.0540   \n",
            "\n",
            "                                               Address           City  \\\n",
            "195         2277 Kathryn Cliffs\\nDanielshire, VI 89502   East Michael   \n",
            "196    3179 Young Brooks Apt. 868\\nScottberg, MI 16700     Port Linda   \n",
            "197        1820 Denise Forks\\nEast Katieberg, IL 88289  Cassandraview   \n",
            "198  1162 Kathryn Extensions\\nEast Larryfurt, MP 70273      Bruceberg   \n",
            "199              228 Adrian Pine\\nNorth Sean, IL 20499  Alexandraside   \n",
            "\n",
            "         Country Date of Birth   Salary  \n",
            "195     Mongolia    2017-05-20  59788.0  \n",
            "196      Senegal    1963-07-25  61230.0  \n",
            "197       Israel    1929-01-18  70482.0  \n",
            "198         Iran    1941-05-17  73249.0  \n",
            "199  New Zealand    2019-09-30  81174.0  \n"
          ]
        }
      ]
    },
    {
      "cell_type": "markdown",
      "source": [
        "\n",
        "\n",
        "> Кількість рядків та стовпців\n",
        "\n"
      ],
      "metadata": {
        "id": "4AmTA1j6SuhT"
      }
    },
    {
      "cell_type": "code",
      "source": [
        "print(sample_data.shape)\n"
      ],
      "metadata": {
        "colab": {
          "base_uri": "https://localhost:8080/"
        },
        "id": "S7-hRUBzSyY0",
        "outputId": "429130dc-d172-4416-969f-0039adde9e25"
      },
      "execution_count": 12,
      "outputs": [
        {
          "output_type": "stream",
          "name": "stdout",
          "text": [
            "(200, 8)\n"
          ]
        }
      ]
    },
    {
      "cell_type": "markdown",
      "source": [
        "\n",
        "\n",
        "> Перевірка наявності дублікатів\n",
        "\n"
      ],
      "metadata": {
        "id": "Ih6ZVsmPS7JR"
      }
    },
    {
      "cell_type": "code",
      "source": [
        "print(sample_data.duplicated())\n"
      ],
      "metadata": {
        "colab": {
          "base_uri": "https://localhost:8080/"
        },
        "id": "u6Z39OzKS-Ye",
        "outputId": "5cb04720-50dd-4c03-d9b8-aed0aa33faa1"
      },
      "execution_count": 13,
      "outputs": [
        {
          "output_type": "stream",
          "name": "stdout",
          "text": [
            "0      False\n",
            "1      False\n",
            "2      False\n",
            "3      False\n",
            "4      False\n",
            "       ...  \n",
            "195     True\n",
            "196     True\n",
            "197     True\n",
            "198     True\n",
            "199     True\n",
            "Length: 200, dtype: bool\n"
          ]
        }
      ]
    },
    {
      "cell_type": "markdown",
      "source": [
        "\n",
        "> Фільтрація дублікатів\n",
        "\n"
      ],
      "metadata": {
        "id": "kmeMoybmTHxb"
      }
    },
    {
      "cell_type": "code",
      "source": [
        "duplicate_rows = sample_data[sample_data.duplicated()]\n",
        "print(duplicate_rows)\n"
      ],
      "metadata": {
        "colab": {
          "base_uri": "https://localhost:8080/"
        },
        "id": "TeFypDQaTLbf",
        "outputId": "a572a338-4290-45c1-9fa2-dc87af6095a6"
      },
      "execution_count": 14,
      "outputs": [
        {
          "output_type": "stream",
          "name": "stdout",
          "text": [
            "                   Name                        Email                 Phone  \\\n",
            "28           Amy Parker  zavalacatherine@example.com            8463043459   \n",
            "29        Carlos Mcneil       hilljoshua@example.com          616-938-0801   \n",
            "30         Tammy Murphy    susanfranklin@example.com    879.671.4238x85134   \n",
            "31   Brittany Rodriguez    thomasgregory@example.net     597.808.5306x8158   \n",
            "32        Scott Stewart        valerie39@example.com          956.897.0540   \n",
            "33       Willie Shelton       jamesdavis@example.net      277-426-9077x821   \n",
            "34    Deborah Nicholson       michelle15@example.net     954-765-9968x1900   \n",
            "35           Vanessa Wu    reginaldowens@example.com  +1-682-798-1566x9050   \n",
            "36          Robyn Allen           chad33@example.org      212-239-3934x599   \n",
            "73           Amy Parker  zavalacatherine@example.com            8463043459   \n",
            "74        Carlos Mcneil       hilljoshua@example.com          616-938-0801   \n",
            "75         Tammy Murphy    susanfranklin@example.com    879.671.4238x85134   \n",
            "76   Brittany Rodriguez    thomasgregory@example.net     597.808.5306x8158   \n",
            "77        Scott Stewart        valerie39@example.com          956.897.0540   \n",
            "78       Willie Shelton       jamesdavis@example.net      277-426-9077x821   \n",
            "79    Deborah Nicholson       michelle15@example.net     954-765-9968x1900   \n",
            "80           Vanessa Wu    reginaldowens@example.com  +1-682-798-1566x9050   \n",
            "111          Amy Parker  zavalacatherine@example.com            8463043459   \n",
            "190          Amy Parker  zavalacatherine@example.com            8463043459   \n",
            "191       Carlos Mcneil       hilljoshua@example.com          616-938-0801   \n",
            "192        Tammy Murphy    susanfranklin@example.com    879.671.4238x85134   \n",
            "193  Brittany Rodriguez    thomasgregory@example.net     597.808.5306x8158   \n",
            "194       Scott Stewart        valerie39@example.com          956.897.0540   \n",
            "195      Willie Shelton       jamesdavis@example.net      277-426-9077x821   \n",
            "196   Deborah Nicholson       michelle15@example.net     954-765-9968x1900   \n",
            "197          Vanessa Wu    reginaldowens@example.com  +1-682-798-1566x9050   \n",
            "198         Robyn Allen           chad33@example.org      212-239-3934x599   \n",
            "199       Scott Stewart        valerie39@example.com          956.897.0540   \n",
            "\n",
            "                                               Address                City  \\\n",
            "28   78272 Garcia Canyon Suite 357\\nPort Debbievill...  Lake Calvinborough   \n",
            "29        5981 Romero Alley\\nPort Meganmouth, MA 18811        Anthonyburgh   \n",
            "30       885 Kelly Club Apt. 350\\nNew Alicia, CT 25171  Lake Brittanyburgh   \n",
            "31              6650 Chris Radial\\nMurphyton, WY 24038          Aaronville   \n",
            "32               228 Adrian Pine\\nNorth Sean, IL 20499       Alexandraside   \n",
            "33          2277 Kathryn Cliffs\\nDanielshire, VI 89502        East Michael   \n",
            "34     3179 Young Brooks Apt. 868\\nScottberg, MI 16700          Port Linda   \n",
            "35         1820 Denise Forks\\nEast Katieberg, IL 88289       Cassandraview   \n",
            "36   1162 Kathryn Extensions\\nEast Larryfurt, MP 70273           Bruceberg   \n",
            "73   78272 Garcia Canyon Suite 357\\nPort Debbievill...  Lake Calvinborough   \n",
            "74        5981 Romero Alley\\nPort Meganmouth, MA 18811        Anthonyburgh   \n",
            "75       885 Kelly Club Apt. 350\\nNew Alicia, CT 25171  Lake Brittanyburgh   \n",
            "76              6650 Chris Radial\\nMurphyton, WY 24038          Aaronville   \n",
            "77               228 Adrian Pine\\nNorth Sean, IL 20499       Alexandraside   \n",
            "78          2277 Kathryn Cliffs\\nDanielshire, VI 89502        East Michael   \n",
            "79     3179 Young Brooks Apt. 868\\nScottberg, MI 16700          Port Linda   \n",
            "80         1820 Denise Forks\\nEast Katieberg, IL 88289       Cassandraview   \n",
            "111  78272 Garcia Canyon Suite 357\\nPort Debbievill...  Lake Calvinborough   \n",
            "190  78272 Garcia Canyon Suite 357\\nPort Debbievill...  Lake Calvinborough   \n",
            "191       5981 Romero Alley\\nPort Meganmouth, MA 18811        Anthonyburgh   \n",
            "192      885 Kelly Club Apt. 350\\nNew Alicia, CT 25171  Lake Brittanyburgh   \n",
            "193             6650 Chris Radial\\nMurphyton, WY 24038          Aaronville   \n",
            "194              228 Adrian Pine\\nNorth Sean, IL 20499       Alexandraside   \n",
            "195         2277 Kathryn Cliffs\\nDanielshire, VI 89502        East Michael   \n",
            "196    3179 Young Brooks Apt. 868\\nScottberg, MI 16700          Port Linda   \n",
            "197        1820 Denise Forks\\nEast Katieberg, IL 88289       Cassandraview   \n",
            "198  1162 Kathryn Extensions\\nEast Larryfurt, MP 70273           Bruceberg   \n",
            "199              228 Adrian Pine\\nNorth Sean, IL 20499       Alexandraside   \n",
            "\n",
            "          Country Date of Birth   Salary  \n",
            "28         Serbia    2001-02-21  54869.0  \n",
            "29   Burkina Faso    1927-07-16  82122.0  \n",
            "30        Namibia    1999-09-24  75999.0  \n",
            "31       Cambodia    1988-12-15  70911.0  \n",
            "32    New Zealand    2019-09-30  81174.0  \n",
            "33       Mongolia    2017-05-20  59788.0  \n",
            "34        Senegal    1963-07-25  61230.0  \n",
            "35         Israel    1929-01-18  70482.0  \n",
            "36           Iran    1941-05-17  73249.0  \n",
            "73         Serbia    2001-02-21  54869.0  \n",
            "74   Burkina Faso    1927-07-16  82122.0  \n",
            "75        Namibia    1999-09-24  75999.0  \n",
            "76       Cambodia    1988-12-15  70911.0  \n",
            "77    New Zealand    2019-09-30  81174.0  \n",
            "78       Mongolia    2017-05-20  59788.0  \n",
            "79        Senegal    1963-07-25  61230.0  \n",
            "80         Israel    1929-01-18  70482.0  \n",
            "111        Serbia    2001-02-21  54869.0  \n",
            "190        Serbia    2001-02-21  54869.0  \n",
            "191  Burkina Faso    1927-07-16  82122.0  \n",
            "192       Namibia    1999-09-24  75999.0  \n",
            "193      Cambodia    1988-12-15  70911.0  \n",
            "194   New Zealand    2019-09-30  81174.0  \n",
            "195      Mongolia    2017-05-20  59788.0  \n",
            "196       Senegal    1963-07-25  61230.0  \n",
            "197        Israel    1929-01-18  70482.0  \n",
            "198          Iran    1941-05-17  73249.0  \n",
            "199   New Zealand    2019-09-30  81174.0  \n"
          ]
        }
      ]
    }
  ]
}