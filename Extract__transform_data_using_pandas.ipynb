{
  "nbformat": 4,
  "nbformat_minor": 0,
  "metadata": {
    "colab": {
      "provenance": [],
      "authorship_tag": "ABX9TyPqXMG2CEy0i0wAavv+ZWmM",
      "include_colab_link": true
    },
    "kernelspec": {
      "name": "python3",
      "display_name": "Python 3"
    },
    "language_info": {
      "name": "python"
    }
  },
  "cells": [
    {
      "cell_type": "markdown",
      "metadata": {
        "id": "view-in-github",
        "colab_type": "text"
      },
      "source": [
        "<a href=\"https://colab.research.google.com/github/Anna-Tereshchuk/ETL_with_Python_and_SQL/blob/main/Extract__transform_data_using_pandas.ipynb\" target=\"_parent\"><img src=\"https://colab.research.google.com/assets/colab-badge.svg\" alt=\"Open In Colab\"/></a>"
      ]
    },
    {
      "cell_type": "code",
      "source": [
        "import pandas as pd\n"
      ],
      "metadata": {
        "id": "Wbjah9t7H0an"
      },
      "execution_count": 1,
      "outputs": []
    },
    {
      "cell_type": "markdown",
      "source": [
        "\n",
        "> Завантаження даних клієнтів з Excel файлу\n",
        "\n"
      ],
      "metadata": {
        "id": "J6h8pqY_H7DI"
      }
    },
    {
      "cell_type": "code",
      "source": [
        "employees = pd.read_excel('/content/H+ Sport Employees.xlsx', sheet_name='Employees-Table')\n"
      ],
      "metadata": {
        "id": "zG1BWcYxKxeH"
      },
      "execution_count": 11,
      "outputs": []
    },
    {
      "cell_type": "markdown",
      "source": [
        "\n",
        "\n",
        "> Перегляд даних\n",
        "\n"
      ],
      "metadata": {
        "id": "W0MZQ_m-MAsE"
      }
    },
    {
      "cell_type": "code",
      "source": [
        "print(employees.head())\n"
      ],
      "metadata": {
        "colab": {
          "base_uri": "https://localhost:8080/"
        },
        "id": "hoaPub5hMClI",
        "outputId": "48842a30-c5fb-406f-9abd-139249c14d06"
      },
      "execution_count": 12,
      "outputs": [
        {
          "output_type": "stream",
          "name": "stdout",
          "text": [
            "      Employee Name Building Department     Status  Hire Date Month  Years  \\\n",
            "0        Page, Lisa     West        ADC  Full Time 1999-01-11   Jan     25   \n",
            "1    Taylor, Hector     West        ADC  Half-Time 2011-02-21   Feb     12   \n",
            "2  Dawson, Jonathan     West        ADC   Contract 2007-03-06   Mar     16   \n",
            "3      Duran, Brian     Taft        ADC     Hourly 2012-08-30   Aug     11   \n",
            "4      Weber, Larry   Watson        ADC  Full Time 2007-12-31   Dec     16   \n",
            "\n",
            "  Benefits  Salary  Job Rating  New Salary  Tax Rate  2.91%  \n",
            "0      DMR   24550           1         NaN       NaN    NaN  \n",
            "1       DM   26795           4         NaN       NaN    NaN  \n",
            "2      NaN   42540           5         NaN       NaN    NaN  \n",
            "3      NaN   35680           2         NaN       NaN    NaN  \n",
            "4        M   72830           2         NaN       NaN    NaN  \n"
          ]
        }
      ]
    },
    {
      "cell_type": "markdown",
      "source": [
        "\n",
        "\n",
        ">Вибір стовпців для видалення\n",
        "\n"
      ],
      "metadata": {
        "id": "ahGSxM-oMUBk"
      }
    },
    {
      "cell_type": "code",
      "source": [
        "columns_to_remove = ['Job Rating', 'New Salary', 'Tax Rate', '2.91%']\n"
      ],
      "metadata": {
        "id": "MwBMfM53MWMA"
      },
      "execution_count": 13,
      "outputs": []
    },
    {
      "cell_type": "markdown",
      "source": [
        "\n",
        "\n",
        "> метод `drop` для видалення зазначених стовпців\n",
        "\n"
      ],
      "metadata": {
        "id": "MMFs6NK3Mda_"
      }
    },
    {
      "cell_type": "code",
      "source": [
        "employees = employees.drop(columns=columns_to_remove)\n"
      ],
      "metadata": {
        "id": "wvONbg9BMhOD"
      },
      "execution_count": 14,
      "outputs": []
    },
    {
      "cell_type": "markdown",
      "source": [
        "\n",
        "\n",
        "> Перевірка оновленого DataFrame\n"
      ],
      "metadata": {
        "id": "0XOdWNLOMlbG"
      }
    },
    {
      "cell_type": "code",
      "source": [
        "print(employees.columns)\n"
      ],
      "metadata": {
        "colab": {
          "base_uri": "https://localhost:8080/"
        },
        "id": "4niAIov5MnKH",
        "outputId": "44bc31a4-8dfd-421a-85db-079d9f5970b5"
      },
      "execution_count": 15,
      "outputs": [
        {
          "output_type": "stream",
          "name": "stdout",
          "text": [
            "Index(['Employee Name', 'Building', 'Department', 'Status', 'Hire Date',\n",
            "       'Month', 'Years', 'Benefits', 'Salary'],\n",
            "      dtype='object')\n"
          ]
        }
      ]
    }
  ]
}