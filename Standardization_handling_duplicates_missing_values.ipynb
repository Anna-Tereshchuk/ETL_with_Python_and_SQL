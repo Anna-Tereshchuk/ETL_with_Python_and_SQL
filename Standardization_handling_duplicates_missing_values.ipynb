{
  "nbformat": 4,
  "nbformat_minor": 0,
  "metadata": {
    "colab": {
      "provenance": [],
      "authorship_tag": "ABX9TyNW+B1sAavttH29c7wix2Kn",
      "include_colab_link": true
    },
    "kernelspec": {
      "name": "python3",
      "display_name": "Python 3"
    },
    "language_info": {
      "name": "python"
    }
  },
  "cells": [
    {
      "cell_type": "markdown",
      "metadata": {
        "id": "view-in-github",
        "colab_type": "text"
      },
      "source": [
        "<a href=\"https://colab.research.google.com/github/Anna-Tereshchuk/ETL_with_Python_and_SQL/blob/main/Standardization_handling_duplicates_missing_values.ipynb\" target=\"_parent\"><img src=\"https://colab.research.google.com/assets/colab-badge.svg\" alt=\"Open In Colab\"/></a>"
      ]
    },
    {
      "cell_type": "code",
      "source": [
        "import pandas as pd\n"
      ],
      "metadata": {
        "id": "Wbjah9t7H0an"
      },
      "execution_count": 1,
      "outputs": []
    },
    {
      "cell_type": "markdown",
      "source": [
        "\n",
        "> Завантаження даних клієнтів з Excel файлу\n",
        "\n"
      ],
      "metadata": {
        "id": "J6h8pqY_H7DI"
      }
    },
    {
      "cell_type": "code",
      "source": [
        "customers = pd.read_excel('/content/H+ Sport Customers.xlsx', sheet_name='data')\n"
      ],
      "metadata": {
        "id": "o9uXTebKH_Lp"
      },
      "execution_count": 2,
      "outputs": []
    },
    {
      "cell_type": "markdown",
      "source": [
        "\n",
        "\n",
        "> Перегляд даних\n",
        "\n"
      ],
      "metadata": {
        "id": "I9mX-GivIGw8"
      }
    },
    {
      "cell_type": "code",
      "source": [
        "print(customers.head())\n"
      ],
      "metadata": {
        "colab": {
          "base_uri": "https://localhost:8080/"
        },
        "id": "nPx7MSx6IIYu",
        "outputId": "6ecb982c-f0ac-418f-c2ca-d491318ca1b7"
      },
      "execution_count": 3,
      "outputs": [
        {
          "output_type": "stream",
          "name": "stdout",
          "text": [
            "   CustomerID  FirstName LastName                 Email          Phone  \\\n",
            "0         100      Carol     Shaw        cshaw0@mlb.com  (206)804-8771   \n",
            "1         101  Elizabeth     Carr     ecarr1@oracle.com  (512)187-2507   \n",
            "2         102     Ernest    Ramos   eramos2@plala.or.jp  (816)540-4257   \n",
            "3         103       Jane   Carter  jcarter3@harvard.edu  (214)839-0542   \n",
            "4         104     Martha   Cooper       mcooper4@go.com  (727)235-5696   \n",
            "\n",
            "                  Address         City State  Zipcode  \n",
            "0     8157 Longview Court      Seattle    WA    98121  \n",
            "1     3934 Petterle Trail       Austin    TX    78732  \n",
            "2  8699 Clarendon Terrace  Kansas City    MO    64199  \n",
            "3        2830 Novick Lane       Irving    TX    75037  \n",
            "4         4537 Hoard Lane        Tampa    FL    33625  \n"
          ]
        }
      ]
    },
    {
      "cell_type": "markdown",
      "source": [
        "**Перевірка та обробка дублікатів**\n",
        "\n",
        "> Перевірка наявності дублікатів\n",
        "\n"
      ],
      "metadata": {
        "id": "nAtGsVtaIPCD"
      }
    },
    {
      "cell_type": "code",
      "source": [
        "columns_to_check = ['Email', 'Phone', 'FirstName', 'LastName']\n",
        "\n"
      ],
      "metadata": {
        "id": "ohH7Er2VIYbs"
      },
      "execution_count": 6,
      "outputs": []
    },
    {
      "cell_type": "markdown",
      "source": [
        "\n",
        "\n",
        "> Використання методу duplicated для перевірки дублікатів\n",
        "\n"
      ],
      "metadata": {
        "id": "TPLfiCTeIcxy"
      }
    },
    {
      "cell_type": "code",
      "source": [
        "duplicates = customers.duplicated(subset=columns_to_check)\n",
        "print(duplicates)\n"
      ],
      "metadata": {
        "colab": {
          "base_uri": "https://localhost:8080/"
        },
        "id": "F-t1C3EQIexE",
        "outputId": "e809bcbb-29bf-4b68-c033-4707bff8db4c"
      },
      "execution_count": 7,
      "outputs": [
        {
          "output_type": "stream",
          "name": "stdout",
          "text": [
            "0       False\n",
            "1       False\n",
            "2       False\n",
            "3       False\n",
            "4       False\n",
            "        ...  \n",
            "1024     True\n",
            "1025     True\n",
            "1026     True\n",
            "1027     True\n",
            "1028     True\n",
            "Length: 1029, dtype: bool\n"
          ]
        }
      ]
    },
    {
      "cell_type": "markdown",
      "source": [
        "\n",
        "\n",
        "> Перевірка наявності відсутніх значень\n",
        "\n",
        "*    метод `isnull` для перевірки наявності відсутніх значень\n",
        "\n",
        "\n",
        "\n",
        "\n"
      ],
      "metadata": {
        "id": "hgWsbEx0JBOm"
      }
    },
    {
      "cell_type": "code",
      "source": [
        "missing_values = customers.isnull().sum()\n",
        "print(missing_values)\n"
      ],
      "metadata": {
        "colab": {
          "base_uri": "https://localhost:8080/"
        },
        "id": "3Ly67-rIJJxM",
        "outputId": "4e1c2890-c88a-48b2-db57-f92aeae39879"
      },
      "execution_count": 8,
      "outputs": [
        {
          "output_type": "stream",
          "name": "stdout",
          "text": [
            "CustomerID    0\n",
            "FirstName     0\n",
            "LastName      0\n",
            "Email         0\n",
            "Phone         0\n",
            "Address       0\n",
            "City          0\n",
            "State         0\n",
            "Zipcode       0\n",
            "dtype: int64\n"
          ]
        }
      ]
    }
  ]
}